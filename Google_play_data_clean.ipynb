{
 "cells": [
  {
   "cell_type": "code",
   "execution_count": 2,
   "id": "efbcd6e5",
   "metadata": {},
   "outputs": [
    {
     "name": "stdout",
     "output_type": "stream",
     "text": [
      "Successfully loaded googleplaystore.csv.\n",
      "Initial shape: (10841, 13)\n",
      "\n",
      "Cleaning missing values...\n",
      "Cleaning and converting data types...\n",
      "Removing duplicate apps...\n",
      "\n",
      "Successfully cleaned the dataset and saved it as 'output\\cleaned_google_play.csv'.\n",
      "Final shape: (9649, 13)\n"
     ]
    },
    {
     "name": "stderr",
     "output_type": "stream",
     "text": [
      "C:\\Users\\rhuth\\AppData\\Local\\Temp\\ipykernel_14464\\1833664491.py:18: FutureWarning: A value is trying to be set on a copy of a DataFrame or Series through chained assignment using an inplace method.\n",
      "The behavior will change in pandas 3.0. This inplace method will never work because the intermediate object on which we are setting values always behaves as a copy.\n",
      "\n",
      "For example, when doing 'df[col].method(value, inplace=True)', try using 'df.method({col: value}, inplace=True)' or df[col] = df[col].method(value) instead, to perform the operation inplace on the original object.\n",
      "\n",
      "\n",
      "  df['Rating'].fillna(mean_rating, inplace=True)\n",
      "C:\\Users\\rhuth\\AppData\\Local\\Temp\\ipykernel_14464\\1833664491.py:22: FutureWarning: A value is trying to be set on a copy of a DataFrame or Series through chained assignment using an inplace method.\n",
      "The behavior will change in pandas 3.0. This inplace method will never work because the intermediate object on which we are setting values always behaves as a copy.\n",
      "\n",
      "For example, when doing 'df[col].method(value, inplace=True)', try using 'df.method({col: value}, inplace=True)' or df[col] = df[col].method(value) instead, to perform the operation inplace on the original object.\n",
      "\n",
      "\n",
      "  df['Type'].fillna(mode_type, inplace=True)\n",
      "C:\\Users\\rhuth\\AppData\\Local\\Temp\\ipykernel_14464\\1833664491.py:51: FutureWarning: A value is trying to be set on a copy of a DataFrame or Series through chained assignment using an inplace method.\n",
      "The behavior will change in pandas 3.0. This inplace method will never work because the intermediate object on which we are setting values always behaves as a copy.\n",
      "\n",
      "For example, when doing 'df[col].method(value, inplace=True)', try using 'df.method({col: value}, inplace=True)' or df[col] = df[col].method(value) instead, to perform the operation inplace on the original object.\n",
      "\n",
      "\n",
      "  df['Size'].fillna(df['Size'].mean(), inplace=True)\n"
     ]
    }
   ],
   "source": [
    "import pandas as pd\n",
    "import numpy as np\n",
    "\n",
    "# --- Load the Raw Data ---\n",
    "try:\n",
    "    df = pd.read_csv(r'Data\\googleplaystore.csv')\n",
    "    print(\"Successfully loaded googleplaystore.csv.\")\n",
    "    print(f\"Initial shape: {df.shape}\")\n",
    "except FileNotFoundError:\n",
    "    print(\"Error: 'googleplaystore.csv' not found. Please make sure it's in the same directory.\")\n",
    "    # Exit or raise an error if the file is not found\n",
    "    exit()\n",
    "\n",
    "# --- Subtask 1: Handle Missing Values ---\n",
    "print(\"\\nCleaning missing values...\")\n",
    "# Fill missing 'Rating' values with the mean of the column\n",
    "mean_rating = df['Rating'].mean()\n",
    "df['Rating'].fillna(mean_rating, inplace=True)\n",
    "\n",
    "# Fill missing 'Type' with the most common value (mode)\n",
    "mode_type = df['Type'].mode()[0]\n",
    "df['Type'].fillna(mode_type, inplace=True)\n",
    "\n",
    "# Drop rows with any remaining missing values in critical columns\n",
    "df.dropna(inplace=True)\n",
    "\n",
    "\n",
    "# --- Subtask 2: Clean and Convert Data Types ---\n",
    "print(\"Cleaning and converting data types...\")\n",
    "# Clean 'Price' column\n",
    "df['Price'] = df['Price'].apply(lambda x: str(x).replace('$', '') if '$' in str(x) else str(x))\n",
    "df['Price'] = df['Price'].apply(lambda x: float(x))\n",
    "\n",
    "# Clean 'Reviews' column\n",
    "df['Reviews'] = pd.to_numeric(df['Reviews'], errors='coerce')\n",
    "\n",
    "# Clean 'Installs' column\n",
    "df['Installs'] = df['Installs'].apply(lambda x: str(x).replace('+', '').replace(',', ''))\n",
    "df['Installs'] = df['Installs'].apply(lambda x: int(x))\n",
    "\n",
    "# Clean 'Size' column (convert M to KB for consistency)\n",
    "def clean_size(size):\n",
    "    if 'M' in size:\n",
    "        return float(size.replace('M', '')) * 1024\n",
    "    elif 'k' in size:\n",
    "        return float(size.replace('k', ''))\n",
    "    return np.nan # Varies with device will become NaN\n",
    "\n",
    "df['Size'] = df['Size'].apply(clean_size)\n",
    "# Fill 'Varies with device' sizes with the mean size\n",
    "df['Size'].fillna(df['Size'].mean(), inplace=True)\n",
    "\n",
    "\n",
    "# --- Subtask 3: Remove Duplicates ---\n",
    "print(\"Removing duplicate apps...\")\n",
    "df.drop_duplicates(subset=['App'], keep='first', inplace=True)\n",
    "\n",
    "\n",
    "# --- Subtask 4: Save the Cleaned Dataset ---\n",
    "output_filename = r'output\\cleaned_google_play.csv'\n",
    "df.to_csv(output_filename, index=False)\n",
    "print(f\"\\nSuccessfully cleaned the dataset and saved it as '{output_filename}'.\")\n",
    "print(f\"Final shape: {df.shape}\")"
   ]
  },
  {
   "cell_type": "code",
   "execution_count": null,
   "id": "106ca4ca",
   "metadata": {},
   "outputs": [],
   "source": []
  }
 ],
 "metadata": {
  "kernelspec": {
   "display_name": "Python 3",
   "language": "python",
   "name": "python3"
  },
  "language_info": {
   "codemirror_mode": {
    "name": "ipython",
    "version": 3
   },
   "file_extension": ".py",
   "mimetype": "text/x-python",
   "name": "python",
   "nbconvert_exporter": "python",
   "pygments_lexer": "ipython3",
   "version": "3.12.3"
  }
 },
 "nbformat": 4,
 "nbformat_minor": 5
}
